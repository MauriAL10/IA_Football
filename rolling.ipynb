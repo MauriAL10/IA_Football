{
 "cells": [
  {
   "cell_type": "code",
   "execution_count": 1,
   "metadata": {},
   "outputs": [],
   "source": [
    "import pandas as pd\n",
    "import numpy as np\n",
    "from datetime import datetime"
   ]
  },
  {
   "cell_type": "code",
   "execution_count": 2,
   "metadata": {},
   "outputs": [],
   "source": [
    "pd.set_option('display.max_rows', None)\n",
    "pd.set_option('display.max_columns', None)\n",
    "pd.set_option('display.width', None)\n",
    "pd.set_option('display.max_colwidth', None)"
   ]
  },
  {
   "cell_type": "code",
   "execution_count": 3,
   "metadata": {},
   "outputs": [],
   "source": [
    "# Cargar los archivos CSV\n",
    "df_fbref = pd.read_csv('./final_data/fbref.csv')\n",
    "df_xvalue = pd.read_csv('./final_data/xvalue.csv')"
   ]
  },
  {
   "cell_type": "code",
   "execution_count": 46,
   "metadata": {},
   "outputs": [
    {
     "name": "stdout",
     "output_type": "stream",
     "text": [
      "(33475, 14)\n",
      "(27015, 34)\n"
     ]
    }
   ],
   "source": [
    "print(df_fbref.shape)\n",
    "print(df_xvalue.shape)"
   ]
  },
  {
   "cell_type": "code",
   "execution_count": 47,
   "metadata": {},
   "outputs": [
    {
     "name": "stdout",
     "output_type": "stream",
     "text": [
      "Columnas de df_fbref: Index(['datetime', 'competition', 'goals_scored', 'goals_conceded', 'opponent',\n",
      "       'possession', 'formation', 'shots', 'shots_on_target', 'penaltys_made',\n",
      "       'penaltys_attempted', 'season', 'team', 'penalty_shootout'],\n",
      "      dtype='object')\n",
      "Columnas de df_xvalue: Index(['team', 'opponent', 'side', 'competition', 'year', 'goals_scored',\n",
      "       'expected_goals', 'expected_goals_in_open_play',\n",
      "       'expected_goals_from_counters', 'expected_goals_from_set_pieces',\n",
      "       'shot_accuracy', 'goals_conceded', 'expected_goals_conceded',\n",
      "       'expected_goals_conceded_in_open_play',\n",
      "       'expected_goals_conceded_from_counters',\n",
      "       'expected_goals_conceded_from_set_pieces', 'total_shots_conceded',\n",
      "       'shots_on_target_conceded', 'defensive_event_height', 'field_tilt',\n",
      "       'expected_threat_from_passes', 'total_passes', 'dribbles',\n",
      "       'touches_opponent_box', 'through_balls', 'crosses', 'one_twos', 'ppda',\n",
      "       'gpi', 'total_fouls_won', 'total_fouls_conceded', 'yellow_cards',\n",
      "       'red_cards', 'expected_threat'],\n",
      "      dtype='object')\n"
     ]
    }
   ],
   "source": [
    "print(\"Columnas de df_fbref:\", df_fbref.columns)\n",
    "print(\"Columnas de df_xvalue:\", df_xvalue.columns)"
   ]
  },
  {
   "cell_type": "code",
   "execution_count": 48,
   "metadata": {},
   "outputs": [],
   "source": [
    "df_fbref['datetime'] = pd.to_datetime(df_fbref['datetime'], format='%d/%m/%Y %H:%M')"
   ]
  },
  {
   "cell_type": "code",
   "execution_count": 49,
   "metadata": {},
   "outputs": [],
   "source": [
    "def determine_fbref_season(date, competition):\n",
    "    # Diccionarios con los rangos de fechas para cada temporada y competición\n",
    "    seasons_dict = {\n",
    "        'Liga Profesional Argentina': [\n",
    "            ((datetime(2017, 8, 20), datetime(2018, 5, 20)), '2017/2018'),\n",
    "            ((datetime(2018, 8, 5), datetime(2019, 4, 13)), '2018/2019'),\n",
    "            ((datetime(2019, 7, 21), datetime(2020, 3, 14)), '2019/2020'),\n",
    "            ((datetime(2021, 7, 9), datetime(2021, 12, 18)), '2021'),\n",
    "            ((datetime(2022, 6, 1), datetime(2022, 10, 30)), '2022')\n",
    "        ],\n",
    "        'Brazilian Serie A': [\n",
    "            ((datetime(2017, 5, 6), datetime(2017, 12, 10)), '2017'),\n",
    "            ((datetime(2018, 4, 7), datetime(2018, 12, 10)), '2018'),\n",
    "            ((datetime(2019, 4, 20), datetime(2019, 12, 15)), '2019'),\n",
    "            ((datetime(2020, 8, 2), datetime(2021, 3, 1)), '2020'),\n",
    "            ((datetime(2021, 5, 23), datetime(2021, 12, 16)), '2021'),\n",
    "            ((datetime(2022, 4, 1), datetime(2022, 11, 20)), '2022')\n",
    "        ],\n",
    "         'Premier League': [\n",
    "            ((datetime(2017, 8, 5), datetime(2018, 5, 25)), '2017/2018'),\n",
    "            ((datetime(2018, 8, 12), datetime(2019, 5, 27)), '2018/2019'),\n",
    "            ((datetime(2019, 8, 10), datetime(2020, 7, 30)), '2019/2020'),\n",
    "            ((datetime(2020, 9, 13), datetime(2021, 5, 30)), '2020/2021'),\n",
    "            ((datetime(2021, 8, 7), datetime(2022, 5, 30)), '2021/2022'),\n",
    "            ((datetime(2022, 8, 1), datetime(2023, 6, 20)), '2022/2023')\n",
    "        ],\n",
    "        'Ligue 1': [\n",
    "            ((datetime(2017, 8, 5), datetime(2018, 5, 27)), '2017/2018'),\n",
    "            ((datetime(2018, 8, 5), datetime(2019, 5, 27)), '2018/2019'),\n",
    "            ((datetime(2019, 8, 3), datetime(2020, 7, 30)), '2019/2020'),\n",
    "            ((datetime(2020, 9, 9), datetime(2021, 5, 30)), '2020/2021'),\n",
    "            ((datetime(2021, 8, 5), datetime(2022, 5, 30)), '2021/2022'),\n",
    "            ((datetime(2022, 8, 5), datetime(2023, 6, 20)), '2022/2023')\n",
    "        ],\n",
    "        'Bundesliga': [\n",
    "            ((datetime(2017, 8, 10), datetime(2018, 5, 27)), '2017/2018'),\n",
    "            ((datetime(2018, 8, 5), datetime(2019, 5, 27)), '2018/2019'),\n",
    "            ((datetime(2019, 8, 3), datetime(2020, 7, 30)), '2019/2020'),\n",
    "            ((datetime(2020, 9, 5), datetime(2021, 5, 30)), '2020/2021'),\n",
    "            ((datetime(2021, 8, 5), datetime(2022, 5, 30)), '2021/2022'),\n",
    "            ((datetime(2022, 8, 5), datetime(2023, 5, 30)), '2022/2023')\n",
    "        ],\n",
    "        'Serie A': [\n",
    "            ((datetime(2017, 8, 10), datetime(2018, 5, 27)), '2017/2018'),\n",
    "            ((datetime(2018, 8, 5), datetime(2019, 5, 30)), '2018/2019'),\n",
    "            ((datetime(2019, 8, 15), datetime(2020, 8, 5)), '2019/2020'),\n",
    "            ((datetime(2020, 9, 5), datetime(2021, 5, 30)), '2020/2021'),\n",
    "            ((datetime(2021, 8, 5), datetime(2022, 5, 30)), '2021/2022'),\n",
    "            ((datetime(2022, 8, 5), datetime(2023, 6, 10)), '2022/2023')\n",
    "        ],\n",
    "        'La Liga': [\n",
    "            ((datetime(2017, 8, 10), datetime(2018, 5, 27)), '2017/2018'),\n",
    "            ((datetime(2018, 8, 5), datetime(2019, 5, 27)), '2018/2019'),\n",
    "            ((datetime(2019, 8, 3), datetime(2020, 7, 30)), '2019/2020'),\n",
    "            ((datetime(2020, 9, 5), datetime(2021, 5, 30)), '2020/2021'),\n",
    "            ((datetime(2021, 8, 5), datetime(2022, 5, 30)), '2021/2022'),\n",
    "            ((datetime(2022, 8, 5), datetime(2023, 6, 10)), '2022/2023')\n",
    "        ],\n",
    "        'US Major League Soccer': [\n",
    "            ((datetime(2017, 2, 25), datetime(2017, 11, 10)), '2017'),\n",
    "            ((datetime(2018, 2, 27), datetime(2018, 12, 10)), '2018'),\n",
    "            ((datetime(2019, 2, 25), datetime(2019, 12, 15)), '2019'),\n",
    "            ((datetime(2020, 2, 25), datetime(2020, 12, 20)), '2020'),\n",
    "            ((datetime(2021, 4, 10), datetime(2021, 12, 5)), '2021'),\n",
    "            ((datetime(2022, 2, 20), datetime(2022, 12, 5)), '2022')\n",
    "        ],\n",
    "    }\n",
    "    \n",
    "    # Iterar sobre los rangos de fechas para encontrar la temporada correcta\n",
    "    for (start_date, end_date), season in seasons_dict.get(competition, []):\n",
    "        if start_date <= date <= end_date:\n",
    "            return season\n",
    "    return None \n",
    "\n",
    "# Aplicar la función al dataframe\n",
    "df_fbref['season'] = df_fbref.apply(lambda row: determine_fbref_season(row['datetime'], row['competition']), axis=1)"
   ]
  },
  {
   "cell_type": "code",
   "execution_count": 50,
   "metadata": {},
   "outputs": [],
   "source": [
    "def determine_season(year, competition):\n",
    "    # Diccionarios con los mapeos de año a temporada\n",
    "    seasons_dict = {\n",
    "        'Liga Profesional Argentina': {2017: '2017/2018', 2018: '2018/2019', 2019: '2019/2020', 2020: '2020', 2021: '2021', 2022: '2022'},\n",
    "        'Brazilian Serie A': {2017: '2017', 2018: '2018', 2019: '2019', 2020: '2020', 2021: '2021', 2022: '2022'},\n",
    "        'Premier League': {2017: '2017/2018', 2018: '2018/2019', 2019: '2019/2020', 2020: '2020/2021', 2021: '2021/2022', 2022: '2022/2023'},\n",
    "        'Ligue 1': {2017: '2017/2018', 2018: '2018/2019', 2019: '2019/2020', 2020: '2020/2021', 2021: '2021/2022', 2022: '2022/2023'},\n",
    "        'Bundesliga': {2017: '2017/2018', 2018: '2018/2019', 2019: '2019/2020', 2020: '2020/2021', 2021: '2021/2022', 2022: '2022/2023'},\n",
    "        'Serie A': {2017: '2017/2018', 2018: '2018/2019', 2019: '2019/2020', 2020: '2020/2021', 2021: '2021/2022', 2022: '2022/2023'},\n",
    "        'La Liga': {2017: '2017/2018', 2018: '2018/2019', 2019: '2019/2020', 2020: '2020/2021', 2021: '2021/2022', 2022: '2022/2023'},\n",
    "        'US Major League Soccer': {2017: '2017', 2018: '2018', 2019: '2019', 2020: '2020', 2021: '2021', 2022: '2022'}\n",
    "    }\n",
    "    \n",
    "    # Comprobamos si la competición y el año están en el diccionario\n",
    "    if competition in seasons_dict and year in seasons_dict[competition]:\n",
    "        return seasons_dict[competition][year]\n",
    "    else:\n",
    "        return None\n",
    "\n",
    "df_xvalue['season'] = df_xvalue.apply(lambda row: determine_season(row['year'], row['competition']), axis=1)"
   ]
  },
  {
   "cell_type": "code",
   "execution_count": 51,
   "metadata": {},
   "outputs": [],
   "source": [
    "#Hacer merge con year categorico\n",
    "merged_df = pd.merge(df_fbref, df_xvalue, how=\"inner\", on=['season', 'team', 'opponent', 'competition', 'goals_scored', 'goals_conceded'])"
   ]
  },
  {
   "cell_type": "code",
   "execution_count": 52,
   "metadata": {},
   "outputs": [],
   "source": [
    "merged_df = merged_df.sort_values(by='datetime')"
   ]
  },
  {
   "cell_type": "code",
   "execution_count": 55,
   "metadata": {},
   "outputs": [
    {
     "data": {
      "text/plain": [
       "(23735, 43)"
      ]
     },
     "execution_count": 55,
     "metadata": {},
     "output_type": "execute_result"
    }
   ],
   "source": [
    "merged_df.shape"
   ]
  },
  {
   "cell_type": "code",
   "execution_count": 54,
   "metadata": {},
   "outputs": [],
   "source": [
    "merged_df = merged_df.drop_duplicates(subset=['datetime', 'team', 'opponent', 'goals_scored', 'goals_conceded'])"
   ]
  },
  {
   "cell_type": "code",
   "execution_count": 16,
   "metadata": {},
   "outputs": [
    {
     "name": "stdout",
     "output_type": "stream",
     "text": [
      "datetime                                   0\n",
      "competition                                0\n",
      "goals_scored                               0\n",
      "goals_conceded                             0\n",
      "opponent                                   0\n",
      "possession                                 2\n",
      "formation                                  0\n",
      "shots                                      0\n",
      "shots_on_target                            0\n",
      "penaltys_made                              0\n",
      "penaltys_attempted                         0\n",
      "season                                     0\n",
      "team                                       0\n",
      "penalty_shootout                           0\n",
      "side                                       0\n",
      "year                                       0\n",
      "expected_goals                             0\n",
      "expected_goals_in_open_play                0\n",
      "expected_goals_from_counters               0\n",
      "expected_goals_from_set_pieces             0\n",
      "shot_accuracy                              0\n",
      "expected_goals_conceded                    0\n",
      "expected_goals_conceded_in_open_play       0\n",
      "expected_goals_conceded_from_counters      0\n",
      "expected_goals_conceded_from_set_pieces    0\n",
      "total_shots_conceded                       0\n",
      "shots_on_target_conceded                   0\n",
      "defensive_event_height                     0\n",
      "field_tilt                                 0\n",
      "expected_threat_from_passes                0\n",
      "total_passes                               0\n",
      "dribbles                                   0\n",
      "touches_opponent_box                       0\n",
      "through_balls                              0\n",
      "crosses                                    0\n",
      "one_twos                                   0\n",
      "ppda                                       0\n",
      "gpi                                        0\n",
      "total_fouls_won                            0\n",
      "total_fouls_conceded                       0\n",
      "yellow_cards                               0\n",
      "red_cards                                  0\n",
      "expected_threat                            0\n",
      "dtype: int64\n",
      "datetime                                   0.000000\n",
      "competition                                0.000000\n",
      "goals_scored                               0.000000\n",
      "goals_conceded                             0.000000\n",
      "opponent                                   0.000000\n",
      "possession                                 0.008426\n",
      "formation                                  0.000000\n",
      "shots                                      0.000000\n",
      "shots_on_target                            0.000000\n",
      "penaltys_made                              0.000000\n",
      "penaltys_attempted                         0.000000\n",
      "season                                     0.000000\n",
      "team                                       0.000000\n",
      "penalty_shootout                           0.000000\n",
      "side                                       0.000000\n",
      "year                                       0.000000\n",
      "expected_goals                             0.000000\n",
      "expected_goals_in_open_play                0.000000\n",
      "expected_goals_from_counters               0.000000\n",
      "expected_goals_from_set_pieces             0.000000\n",
      "shot_accuracy                              0.000000\n",
      "expected_goals_conceded                    0.000000\n",
      "expected_goals_conceded_in_open_play       0.000000\n",
      "expected_goals_conceded_from_counters      0.000000\n",
      "expected_goals_conceded_from_set_pieces    0.000000\n",
      "total_shots_conceded                       0.000000\n",
      "shots_on_target_conceded                   0.000000\n",
      "defensive_event_height                     0.000000\n",
      "field_tilt                                 0.000000\n",
      "expected_threat_from_passes                0.000000\n",
      "total_passes                               0.000000\n",
      "dribbles                                   0.000000\n",
      "touches_opponent_box                       0.000000\n",
      "through_balls                              0.000000\n",
      "crosses                                    0.000000\n",
      "one_twos                                   0.000000\n",
      "ppda                                       0.000000\n",
      "gpi                                        0.000000\n",
      "total_fouls_won                            0.000000\n",
      "total_fouls_conceded                       0.000000\n",
      "yellow_cards                               0.000000\n",
      "red_cards                                  0.000000\n",
      "expected_threat                            0.000000\n",
      "dtype: float64\n"
     ]
    }
   ],
   "source": [
    "nan_counts = merged_df.isnull().sum()\n",
    "print(nan_counts)\n",
    "nan_percentage = (merged_df.isnull().sum() / len(merged_df)) * 100\n",
    "print(nan_percentage)\n"
   ]
  },
  {
   "cell_type": "code",
   "execution_count": 56,
   "metadata": {},
   "outputs": [],
   "source": [
    "#Borrar x_goals_against, x_goals_x, year\n",
    "cols_to_drop = ['year']\n",
    "merged_df.drop(columns=cols_to_drop, inplace=True)"
   ]
  },
  {
   "cell_type": "code",
   "execution_count": 31,
   "metadata": {},
   "outputs": [
    {
     "name": "stdout",
     "output_type": "stream",
     "text": [
      "(23735, 42)\n"
     ]
    }
   ],
   "source": [
    "print(merged_df.shape)"
   ]
  },
  {
   "cell_type": "code",
   "execution_count": 18,
   "metadata": {},
   "outputs": [],
   "source": [
    "# def define_strategy(row):\n",
    "#     # Posesión: Alta posesión y alta cantidad de pases\n",
    "#     if row['possession'] > 55 and row['total_passes'] > 450:\n",
    "#         return \"Posesion\"\n",
    "\n",
    "#     # Contraataque: Baja posesión pero alta cantidad de tiros o alto valor en goles esperados de contraataque\n",
    "#     elif row['possession'] < 45 and (row['shots'] > 10 or row['shots_on_target'] > 5 or row['expected_goals_from_counters'] > 0.5):\n",
    "#         return \"Contraataque\"\n",
    "\n",
    "#     # Presión Alta: Bajo valor en ppda\n",
    "#     elif row['ppda'] < 10:\n",
    "#         return \"Presion Alta\"\n",
    "\n",
    "#     # Juego por Banda o Centros: Alto número de crosses y actividad en touches_opponent_box\n",
    "#     elif row['crosses'] > 20 and row['touches_opponent_box'] > 15:\n",
    "#         return \"Juego por Banda\"\n",
    "\n",
    "#     # Defensivo: Baja cantidad de tiros concedidos, alto defensive_event_height y bajo field_tilt\n",
    "#     elif row['total_shots_conceded'] < 8 and row['defensive_event_height'] > 20 :\n",
    "#         return \"Defensivo\"\n",
    "\n",
    "#     # Equilibrado: Estrategia por defecto\n",
    "#     else:\n",
    "#         return \"Equilibrado\"\n",
    "    \n",
    "#merged_df['strategy'] = merged_df.apply(define_strategy, axis=1)"
   ]
  },
  {
   "cell_type": "code",
   "execution_count": 57,
   "metadata": {},
   "outputs": [],
   "source": [
    "merged_df['formation'] = merged_df['formation'].replace({\n",
    "    4321: 433,\n",
    "    541: 532,\n",
    "    3511:352,\n",
    "    4312: 41212,\n",
    "    451: 4141\n",
    "})"
   ]
  },
  {
   "cell_type": "code",
   "execution_count": 58,
   "metadata": {},
   "outputs": [],
   "source": [
    "def formation_based_strategy(row):\n",
    "    formation = row['formation']\n",
    "    \n",
    "    if formation == 532:\n",
    "        return \"Contraataque\"\n",
    "    elif formation in [352, 343]:\n",
    "        return \"Presión Alta\"\n",
    "    elif formation in [433, 4231, 4141]:\n",
    "        return \"Posesión\"\n",
    "    elif formation in [442, 41212]:\n",
    "        return \"Juego Directo\"\n",
    "    else:\n",
    "        return \"Indefinido\"  # Para cualquier caso que no coincida con las formaciones anteriores\n",
    "\n",
    "merged_df['strategy'] = merged_df.apply(formation_based_strategy, axis=1)"
   ]
  },
  {
   "cell_type": "code",
   "execution_count": 62,
   "metadata": {},
   "outputs": [],
   "source": [
    "def define_tactic(row):\n",
    "    possession_threshold_4231 = 53  \n",
    "    possession_threshold_433 = 50  \n",
    "    crosses_threshold_442 = 18 \n",
    "    ppda_threshold_352 = 12  \n",
    "\n",
    "    if row['formation'] == 4231:\n",
    "        if row['possession'] >= possession_threshold_4231:\n",
    "            return \"4231 - Posesion\"\n",
    "        else:\n",
    "            return \"4231 - Contraataque\"\n",
    "\n",
    "    elif row['formation'] == 433:\n",
    "        if row['possession'] >= possession_threshold_433:\n",
    "            return \"433 - Posesion\"\n",
    "        else:\n",
    "            return \"433 - Juego Directo\"\n",
    "\n",
    "    elif row['formation'] == 352:\n",
    "        if row['ppda'] <= ppda_threshold_352:\n",
    "            return \"352 - Presion Alta\"\n",
    "        else:\n",
    "            return \"352 - Posesion\"\n",
    "\n",
    "    elif row['formation'] == 343:\n",
    "        return \"343 - Presion Alta\"\n",
    "\n",
    "    elif row['formation'] == 442:\n",
    "        if row['crosses'] >= crosses_threshold_442:\n",
    "            return \"442 - Juego Directo\"\n",
    "        else:\n",
    "            return \"442 - Posesion\"\n",
    "\n",
    "    elif row['formation'] == 4141:\n",
    "        return \"4141 - Posesion\"\n",
    "\n",
    "    elif row['formation'] == 41212:\n",
    "        return \"41212 - Juego Directo\"\n",
    "\n",
    "    elif row['formation'] == 532:\n",
    "        return \"532 - Contraataque\"\n",
    "\n",
    "    else:\n",
    "        return \"Indefinido\"\n",
    "\n",
    "merged_df['tactic'] = merged_df.apply(define_tactic, axis=1)\n"
   ]
  },
  {
   "cell_type": "code",
   "execution_count": 23,
   "metadata": {},
   "outputs": [
    {
     "name": "stdout",
     "output_type": "stream",
     "text": [
      "formation\n",
      "4231     7665\n",
      "433      3930\n",
      "442      3382\n",
      "352      2561\n",
      "343      2196\n",
      "4141     1439\n",
      "41212     685\n",
      "4312      541\n",
      "532       515\n",
      "541       319\n",
      "3511      213\n",
      "4321      160\n",
      "451       129\n",
      "Name: count, dtype: int64\n"
     ]
    }
   ],
   "source": [
    "formation_counts = merged_df['formation'].value_counts()\n",
    "print(formation_counts)"
   ]
  },
  {
   "cell_type": "code",
   "execution_count": 34,
   "metadata": {},
   "outputs": [
    {
     "name": "stdout",
     "output_type": "stream",
     "text": [
      "formation\n",
      "4231     7665\n",
      "433      4090\n",
      "442      3382\n",
      "352      2774\n",
      "343      2196\n",
      "4141     1568\n",
      "41212    1226\n",
      "532       834\n",
      "Name: count, dtype: int64\n"
     ]
    }
   ],
   "source": [
    "formation_counts = merged_df['formation'].value_counts()\n",
    "print(formation_counts)"
   ]
  },
  {
   "cell_type": "code",
   "execution_count": 60,
   "metadata": {},
   "outputs": [
    {
     "name": "stdout",
     "output_type": "stream",
     "text": [
      "strategy\n",
      "Posesión         13323\n",
      "Presión Alta      4970\n",
      "Juego Directo     4608\n",
      "Contraataque       834\n",
      "Name: count, dtype: int64\n"
     ]
    }
   ],
   "source": [
    "strategy_counts = merged_df['strategy'].value_counts()\n",
    "print(strategy_counts)"
   ]
  },
  {
   "cell_type": "code",
   "execution_count": 63,
   "metadata": {},
   "outputs": [
    {
     "name": "stdout",
     "output_type": "stream",
     "text": [
      "tactic\n",
      "4231 - Contraataque      4083\n",
      "4231 - Posesion          3582\n",
      "433 - Posesion           2707\n",
      "343 - Presion Alta       2196\n",
      "442 - Posesion           1755\n",
      "442 - Juego Directo      1627\n",
      "4141 - Posesion          1568\n",
      "352 - Presion Alta       1428\n",
      "433 - Juego Directo      1383\n",
      "352 - Posesion           1346\n",
      "41212 - Juego Directo    1226\n",
      "532 - Contraataque        834\n",
      "Name: count, dtype: int64\n"
     ]
    }
   ],
   "source": [
    "tactic_counts = merged_df['tactic'].value_counts()\n",
    "print(tactic_counts)"
   ]
  },
  {
   "cell_type": "code",
   "execution_count": 66,
   "metadata": {},
   "outputs": [],
   "source": [
    "from sklearn.preprocessing import MinMaxScaler"
   ]
  },
  {
   "cell_type": "code",
   "execution_count": 67,
   "metadata": {},
   "outputs": [],
   "source": [
    "columns_to_exclude = ['formation', 'year']\n",
    "cols_to_normalize = [col for col in merged_df.columns if (merged_df[col].dtype in ['int64', 'float64']) and (col not in columns_to_exclude)]\n",
    "scaler = MinMaxScaler()\n",
    "\n",
    "# Normalizar y agregar el sufijo \"_norm\"\n",
    "for col in cols_to_normalize:\n",
    "    merged_df[col + '_norm'] = scaler.fit_transform(merged_df[[col]])"
   ]
  },
  {
   "cell_type": "code",
   "execution_count": 68,
   "metadata": {},
   "outputs": [
    {
     "name": "stdout",
     "output_type": "stream",
     "text": [
      "Index(['datetime', 'competition', 'goals_scored', 'goals_conceded', 'opponent',\n",
      "       'possession', 'formation', 'shots', 'shots_on_target', 'penaltys_made',\n",
      "       'penaltys_attempted', 'season', 'team', 'penalty_shootout', 'side',\n",
      "       'expected_goals', 'expected_goals_in_open_play',\n",
      "       'expected_goals_from_counters', 'expected_goals_from_set_pieces',\n",
      "       'shot_accuracy', 'expected_goals_conceded',\n",
      "       'expected_goals_conceded_in_open_play',\n",
      "       'expected_goals_conceded_from_counters',\n",
      "       'expected_goals_conceded_from_set_pieces', 'total_shots_conceded',\n",
      "       'shots_on_target_conceded', 'defensive_event_height', 'field_tilt',\n",
      "       'expected_threat_from_passes', 'total_passes', 'dribbles',\n",
      "       'touches_opponent_box', 'through_balls', 'crosses', 'one_twos', 'ppda',\n",
      "       'gpi', 'total_fouls_won', 'total_fouls_conceded', 'yellow_cards',\n",
      "       'red_cards', 'expected_threat', 'strategy', 'tactic',\n",
      "       'goals_scored_norm', 'goals_conceded_norm', 'possession_norm',\n",
      "       'shots_norm', 'shots_on_target_norm', 'penaltys_made_norm',\n",
      "       'penaltys_attempted_norm', 'penalty_shootout_norm',\n",
      "       'expected_goals_norm', 'expected_goals_in_open_play_norm',\n",
      "       'expected_goals_from_counters_norm',\n",
      "       'expected_goals_from_set_pieces_norm', 'shot_accuracy_norm',\n",
      "       'expected_goals_conceded_norm',\n",
      "       'expected_goals_conceded_in_open_play_norm',\n",
      "       'expected_goals_conceded_from_counters_norm',\n",
      "       'expected_goals_conceded_from_set_pieces_norm',\n",
      "       'total_shots_conceded_norm', 'shots_on_target_conceded_norm',\n",
      "       'defensive_event_height_norm', 'field_tilt_norm',\n",
      "       'expected_threat_from_passes_norm', 'total_passes_norm',\n",
      "       'dribbles_norm', 'touches_opponent_box_norm', 'through_balls_norm',\n",
      "       'crosses_norm', 'one_twos_norm', 'ppda_norm', 'gpi_norm',\n",
      "       'total_fouls_won_norm', 'total_fouls_conceded_norm',\n",
      "       'yellow_cards_norm', 'red_cards_norm', 'expected_threat_norm'],\n",
      "      dtype='object')\n"
     ]
    }
   ],
   "source": [
    "print(merged_df.columns)"
   ]
  },
  {
   "cell_type": "code",
   "execution_count": 69,
   "metadata": {},
   "outputs": [
    {
     "data": {
      "text/plain": [
       "(23735, 79)"
      ]
     },
     "execution_count": 69,
     "metadata": {},
     "output_type": "execute_result"
    }
   ],
   "source": [
    "merged_df.shape"
   ]
  },
  {
   "cell_type": "code",
   "execution_count": 70,
   "metadata": {},
   "outputs": [],
   "source": [
    "cols_normalized = [col + '_norm' for col in cols_to_normalize]\n",
    "cols_to_keep = ['datetime', 'team', 'opponent', 'tactic', 'formation', 'strategy'] + cols_normalized\n",
    "df_norm = merged_df[cols_to_keep]"
   ]
  },
  {
   "cell_type": "code",
   "execution_count": 71,
   "metadata": {},
   "outputs": [
    {
     "name": "stdout",
     "output_type": "stream",
     "text": [
      "Index(['datetime', 'team', 'opponent', 'tactic', 'formation', 'strategy',\n",
      "       'goals_scored_norm', 'goals_conceded_norm', 'possession_norm',\n",
      "       'shots_norm', 'shots_on_target_norm', 'penaltys_made_norm',\n",
      "       'penaltys_attempted_norm', 'penalty_shootout_norm',\n",
      "       'expected_goals_norm', 'expected_goals_in_open_play_norm',\n",
      "       'expected_goals_from_counters_norm',\n",
      "       'expected_goals_from_set_pieces_norm', 'shot_accuracy_norm',\n",
      "       'expected_goals_conceded_norm',\n",
      "       'expected_goals_conceded_in_open_play_norm',\n",
      "       'expected_goals_conceded_from_counters_norm',\n",
      "       'expected_goals_conceded_from_set_pieces_norm',\n",
      "       'total_shots_conceded_norm', 'shots_on_target_conceded_norm',\n",
      "       'defensive_event_height_norm', 'field_tilt_norm',\n",
      "       'expected_threat_from_passes_norm', 'total_passes_norm',\n",
      "       'dribbles_norm', 'touches_opponent_box_norm', 'through_balls_norm',\n",
      "       'crosses_norm', 'one_twos_norm', 'ppda_norm', 'gpi_norm',\n",
      "       'total_fouls_won_norm', 'total_fouls_conceded_norm',\n",
      "       'yellow_cards_norm', 'red_cards_norm', 'expected_threat_norm'],\n",
      "      dtype='object')\n"
     ]
    }
   ],
   "source": [
    "print(df_norm.columns)"
   ]
  },
  {
   "cell_type": "code",
   "execution_count": 72,
   "metadata": {},
   "outputs": [
    {
     "data": {
      "text/plain": [
       "(23735, 41)"
      ]
     },
     "execution_count": 72,
     "metadata": {},
     "output_type": "execute_result"
    }
   ],
   "source": [
    "df_norm.shape"
   ]
  },
  {
   "cell_type": "code",
   "execution_count": 73,
   "metadata": {},
   "outputs": [],
   "source": [
    "exclude_columns = ['formation', 'strategy']\n",
    "stats_columns = [col for col in df_norm.columns if df_norm[col].dtype in ['int64', 'float64'] and col not in exclude_columns]\n",
    "relevant_columns = ['datetime', 'team', 'opponent', 'tactic'] + stats_columns\n",
    "filtered_data = df_norm[relevant_columns]"
   ]
  },
  {
   "cell_type": "code",
   "execution_count": 74,
   "metadata": {},
   "outputs": [
    {
     "name": "stderr",
     "output_type": "stream",
     "text": [
      "C:\\Users\\GEEK STORE\\AppData\\Local\\Temp\\ipykernel_9556\\1900454804.py:1: SettingWithCopyWarning: \n",
      "A value is trying to be set on a copy of a slice from a DataFrame.\n",
      "Try using .loc[row_indexer,col_indexer] = value instead\n",
      "\n",
      "See the caveats in the documentation: https://pandas.pydata.org/pandas-docs/stable/user_guide/indexing.html#returning-a-view-versus-a-copy\n",
      "  filtered_data['datetime'] = pd.to_datetime(filtered_data['datetime'])\n"
     ]
    }
   ],
   "source": [
    "filtered_data['datetime'] = pd.to_datetime(filtered_data['datetime'])\n",
    "sorted_data = filtered_data.sort_values(by=['team', 'datetime'])"
   ]
  },
  {
   "cell_type": "code",
   "execution_count": 75,
   "metadata": {},
   "outputs": [],
   "source": [
    "# Funcion para obtener las estadísticas de los 5 partidos anteriores\n",
    "def get_previous_matches_stats(row, data, n=5):\n",
    "    # Filtrar partidos anteriores del oponente\n",
    "    previous_matches = data[(data['team'] == row['opponent']) & (data['datetime'] < row['datetime'])]\n",
    "    \n",
    "    # Ordenar por fecha y obtener los últimos n partidos\n",
    "    previous_matches = previous_matches.sort_values(by='datetime', ascending=False).head(n)\n",
    "    \n",
    "    # Crear un diccionario para almacenar las estadísticas\n",
    "    stats = {}\n",
    "    for i in range(1, n+1):\n",
    "        match = previous_matches.iloc[i-1] if i <= len(previous_matches) else pd.Series()\n",
    "        for col in stats_columns:\n",
    "            stats[f\"{col}_{i}\"] = match.get(col, None)\n",
    "\n",
    "    return pd.Series(stats)"
   ]
  },
  {
   "cell_type": "code",
   "execution_count": 76,
   "metadata": {},
   "outputs": [],
   "source": [
    "# Aplicar la función a cada fila\n",
    "stats_data = sorted_data.apply(lambda row: get_previous_matches_stats(row, sorted_data), axis=1)\n",
    "final_data = pd.concat([sorted_data.reset_index(drop=True), stats_data.reset_index(drop=True)], axis=1)"
   ]
  },
  {
   "cell_type": "code",
   "execution_count": 77,
   "metadata": {},
   "outputs": [],
   "source": [
    "final_data = final_data.sort_values(by='datetime')"
   ]
  },
  {
   "cell_type": "code",
   "execution_count": 78,
   "metadata": {},
   "outputs": [
    {
     "data": {
      "text/plain": [
       "(23735, 214)"
      ]
     },
     "execution_count": 78,
     "metadata": {},
     "output_type": "execute_result"
    }
   ],
   "source": [
    "final_data.shape"
   ]
  },
  {
   "cell_type": "code",
   "execution_count": 79,
   "metadata": {},
   "outputs": [],
   "source": [
    "final_data.to_csv('./final_data/rolled_data.csv')"
   ]
  }
 ],
 "metadata": {
  "kernelspec": {
   "display_name": "Python 3",
   "language": "python",
   "name": "python3"
  },
  "language_info": {
   "codemirror_mode": {
    "name": "ipython",
    "version": 3
   },
   "file_extension": ".py",
   "mimetype": "text/x-python",
   "name": "python",
   "nbconvert_exporter": "python",
   "pygments_lexer": "ipython3",
   "version": "3.9.12"
  }
 },
 "nbformat": 4,
 "nbformat_minor": 2
}
